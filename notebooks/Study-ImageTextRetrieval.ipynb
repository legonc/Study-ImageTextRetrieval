﻿{
 "nbformat": 4,
 "metadata": {
  "kernelspec": {
   "language": "python",
   "display_name": "Python 3",
   "name": "python3"
  },
  "language_info": {
   "version": "3.11.9",
   "name": "python"
  }
 },
 "nbformat_minor": 5,
 "cells": [
  {
   "metadata": {},
   "cell_type": "raw",
   "source": "",
   "id": "d950ec9b13254103"
  }
 ]
}
